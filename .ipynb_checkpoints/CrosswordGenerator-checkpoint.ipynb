{
 "cells": [
  {
   "cell_type": "code",
   "execution_count": 1,
   "id": "8daa1013-9335-4cb6-9c02-2d09abb2ddd0",
   "metadata": {},
   "outputs": [
    {
     "name": "stderr",
     "output_type": "stream",
     "text": [
      "\u001b[32m\u001b[1m    Updating\u001b[22m\u001b[39m git-repo `https://github.com/abhirup-m/Crosswords.jl.git`\n"
     ]
    },
    {
     "ename": "LoadError",
     "evalue": "package `Crosswords [b2635cd4]` has same name or UUID as the active project",
     "output_type": "error",
     "traceback": [
      "package `Crosswords [b2635cd4]` has same name or UUID as the active project",
      "",
      "Stacktrace:",
      " [1] \u001b[0m\u001b[1mpkgerror\u001b[22m\u001b[0m\u001b[1m(\u001b[22m\u001b[90mmsg\u001b[39m::\u001b[0mString\u001b[0m\u001b[1m)\u001b[22m",
      "\u001b[90m   @\u001b[39m \u001b[35mPkg.Types\u001b[39m \u001b[90m~/.julia/juliaup/julia-1.11.7+0.x64.linux.gnu/share/julia/stdlib/v1.11/Pkg/src/\u001b[39m\u001b[90m\u001b[4mTypes.jl:68\u001b[24m\u001b[39m",
      " [2] \u001b[0m\u001b[1madd\u001b[22m\u001b[0m\u001b[1m(\u001b[22m\u001b[90mctx\u001b[39m::\u001b[0mPkg.Types.Context, \u001b[90mpkgs\u001b[39m::\u001b[0mVector\u001b[90m{Pkg.Types.PackageSpec}\u001b[39m; \u001b[90mpreserve\u001b[39m::\u001b[0mPkg.Types.PreserveLevel, \u001b[90mplatform\u001b[39m::\u001b[0mBase.BinaryPlatforms.Platform, \u001b[90mtarget\u001b[39m::\u001b[0mSymbol, \u001b[90mallow_autoprecomp\u001b[39m::\u001b[0mBool, \u001b[90mkwargs\u001b[39m::\u001b[0m@Kwargs\u001b[90m{io::IOContext{IO}}\u001b[39m\u001b[0m\u001b[1m)\u001b[22m",
      "\u001b[90m   @\u001b[39m \u001b[35mPkg.API\u001b[39m \u001b[90m~/.julia/juliaup/julia-1.11.7+0.x64.linux.gnu/share/julia/stdlib/v1.11/Pkg/src/\u001b[39m\u001b[90m\u001b[4mAPI.jl:304\u001b[24m\u001b[39m",
      " [3] \u001b[0m\u001b[1madd\u001b[22m\u001b[0m\u001b[1m(\u001b[22m\u001b[90mpkgs\u001b[39m::\u001b[0mVector\u001b[90m{Pkg.Types.PackageSpec}\u001b[39m; \u001b[90mio\u001b[39m::\u001b[0mIOContext\u001b[90m{IO}\u001b[39m, \u001b[90mkwargs\u001b[39m::\u001b[0m@Kwargs\u001b[90m{}\u001b[39m\u001b[0m\u001b[1m)\u001b[22m",
      "\u001b[90m   @\u001b[39m \u001b[35mPkg.API\u001b[39m \u001b[90m~/.julia/juliaup/julia-1.11.7+0.x64.linux.gnu/share/julia/stdlib/v1.11/Pkg/src/\u001b[39m\u001b[90m\u001b[4mAPI.jl:159\u001b[24m\u001b[39m",
      " [4] \u001b[0m\u001b[1madd\u001b[22m\u001b[0m\u001b[1m(\u001b[22m\u001b[90mpkgs\u001b[39m::\u001b[0mVector\u001b[90m{Pkg.Types.PackageSpec}\u001b[39m\u001b[0m\u001b[1m)\u001b[22m",
      "\u001b[90m   @\u001b[39m \u001b[35mPkg.API\u001b[39m \u001b[90m~/.julia/juliaup/julia-1.11.7+0.x64.linux.gnu/share/julia/stdlib/v1.11/Pkg/src/\u001b[39m\u001b[90m\u001b[4mAPI.jl:148\u001b[24m\u001b[39m",
      " [5] \u001b[0m\u001b[1madd\u001b[22m",
      "\u001b[90m   @\u001b[39m \u001b[90m~/.julia/juliaup/julia-1.11.7+0.x64.linux.gnu/share/julia/stdlib/v1.11/Pkg/src/\u001b[39m\u001b[90m\u001b[4mAPI.jl:146\u001b[24m\u001b[39m\u001b[90m [inlined]\u001b[39m",
      " [6] \u001b[0m\u001b[1madd\u001b[22m\u001b[0m\u001b[1m(\u001b[22m; \u001b[90mname\u001b[39m::\u001b[0mNothing, \u001b[90muuid\u001b[39m::\u001b[0mNothing, \u001b[90mversion\u001b[39m::\u001b[0mNothing, \u001b[90murl\u001b[39m::\u001b[0mString, \u001b[90mrev\u001b[39m::\u001b[0mNothing, \u001b[90mpath\u001b[39m::\u001b[0mNothing, \u001b[90mmode\u001b[39m::\u001b[0mPkg.Types.PackageMode, \u001b[90msubdir\u001b[39m::\u001b[0mNothing, \u001b[90mkwargs\u001b[39m::\u001b[0m@Kwargs\u001b[90m{}\u001b[39m\u001b[0m\u001b[1m)\u001b[22m",
      "\u001b[90m   @\u001b[39m \u001b[35mPkg.API\u001b[39m \u001b[90m~/.julia/juliaup/julia-1.11.7+0.x64.linux.gnu/share/julia/stdlib/v1.11/Pkg/src/\u001b[39m\u001b[90m\u001b[4mAPI.jl:176\u001b[24m\u001b[39m",
      " [7] top-level scope",
      "\u001b[90m   @\u001b[39m \u001b[90m\u001b[4mIn[1]:3\u001b[24m\u001b[39m"
     ]
    }
   ],
   "source": [
    "using Distributed, Pkg\n",
    "Pkg.activate(\".\")"
   ]
  },
  {
   "cell_type": "code",
   "execution_count": null,
   "id": "377511a7-5c15-4f82-b24e-cc87a5b37f91",
   "metadata": {},
   "outputs": [],
   "source": [
    "if nprocs() == 1 \n",
    "\taddprocs(10);\n",
    "end\n",
    "@everywhere using Crosswords"
   ]
  },
  {
   "cell_type": "code",
   "execution_count": null,
   "id": "0a466f61-39c8-4392-bf2e-8c905ed41dbf",
   "metadata": {},
   "outputs": [],
   "source": [
    "generateCrossword(\"requirements.toml\")"
   ]
  },
  {
   "cell_type": "code",
   "execution_count": null,
   "id": "83614598-1d9b-4afa-a19b-053c008036dc",
   "metadata": {},
   "outputs": [],
   "source": []
  }
 ],
 "metadata": {
  "kernelspec": {
   "display_name": "Julia 1.11.7",
   "language": "julia",
   "name": "julia-1.11"
  },
  "language_info": {
   "file_extension": ".jl",
   "mimetype": "application/julia",
   "name": "julia",
   "version": "1.11.7"
  }
 },
 "nbformat": 4,
 "nbformat_minor": 5
}
