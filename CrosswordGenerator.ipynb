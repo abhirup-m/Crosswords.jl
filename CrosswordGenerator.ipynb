{
 "cells": [
  {
   "cell_type": "code",
   "execution_count": 1,
   "id": "8daa1013-9335-4cb6-9c02-2d09abb2ddd0",
   "metadata": {},
   "outputs": [
    {
     "name": "stderr",
     "output_type": "stream",
     "text": [
      "\u001b[32m\u001b[1m  Activating\u001b[22m\u001b[39m project at `/run/media/abhirup/Storage/programmingProjects/Crosswords.jl`\n"
     ]
    }
   ],
   "source": [
    "using Distributed, Pkg\n",
    "Pkg.activate(\".\")"
   ]
  },
  {
   "cell_type": "code",
   "execution_count": 2,
   "id": "377511a7-5c15-4f82-b24e-cc87a5b37f91",
   "metadata": {},
   "outputs": [],
   "source": [
    "if nprocs() == 1 \n",
    "\taddprocs(10);\n",
    "end\n",
    "@everywhere using Crosswords"
   ]
  },
  {
   "cell_type": "code",
   "execution_count": 3,
   "id": "0a466f61-39c8-4392-bf2e-8c905ed41dbf",
   "metadata": {},
   "outputs": [
    {
     "name": "stderr",
     "output_type": "stream",
     "text": [
      "\u001b[32mProgress:   0%|                                         |  ETA: 11:55:45\u001b[39m"
     ]
    },
    {
     "name": "stdout",
     "output_type": "stream",
     "text": [
      "      From worker 10:\t\u001b[36m\u001b[1m┌ \u001b[22m\u001b[39m\u001b[36m\u001b[1mInfo: \u001b[22m\u001b[39mCrossword \n",
      "      From worker 10:\t\u001b[36m\u001b[1m│ \u001b[22m\u001b[39m\n",
      "      From worker 10:\t\u001b[36m\u001b[1m│ \u001b[22m\u001b[39mP # # # # # H # # # # # # #\n",
      "      From worker 10:\t\u001b[36m\u001b[1m│ \u001b[22m\u001b[39mA S T R O C Y T E S # # # #\n",
      "      From worker 10:\t\u001b[36m\u001b[1m│ \u001b[22m\u001b[39mR # # # # # P # # # # # M #\n",
      "      From worker 10:\t\u001b[36m\u001b[1m│ \u001b[22m\u001b[39mK # A N G I O G E N E S I S\n",
      "      From worker 10:\t\u001b[36m\u001b[1m│ \u001b[22m\u001b[39mI # # # # # X # # # # # C #\n",
      "      From worker 10:\t\u001b[36m\u001b[1m│ \u001b[22m\u001b[39mN # V # # # I # # # # # R #\n",
      "      From worker 10:\t\u001b[36m\u001b[1m│ \u001b[22m\u001b[39mS # I N F L A M M A T I O N\n",
      "      From worker 10:\t\u001b[36m\u001b[1m│ \u001b[22m\u001b[39mO # R # # # # A # # # # G #\n",
      "      From worker 10:\t\u001b[36m\u001b[1m│ \u001b[22m\u001b[39mN # U # # # # L # # # # L #\n",
      "      From worker 10:\t\u001b[36m\u001b[1m│ \u001b[22m\u001b[39m# A L L O S T A S I S # I #\n",
      "      From worker 10:\t\u001b[36m\u001b[1m│ \u001b[22m\u001b[39m# # E # # # # R # # # # A #\n",
      "      From worker 10:\t\u001b[36m\u001b[1m│ \u001b[22m\u001b[39m# I N T E G R I N S # # # #\n",
      "      From worker 10:\t\u001b[36m\u001b[1m│ \u001b[22m\u001b[39m# # C # # # # A # # # # # #\n",
      "      From worker 10:\t\u001b[36m\u001b[1m│ \u001b[22m\u001b[39m# # E # # # # # # # # # # #\n",
      "      From worker 10:\t\u001b[36m\u001b[1m│ \u001b[22m\u001b[39m\n",
      "      From worker 10:\t\u001b[36m\u001b[1m└ \u001b[22m\u001b[39mIntersections: 12\n"
     ]
    },
    {
     "name": "stderr",
     "output_type": "stream",
     "text": [
      "\u001b[32mProgress: 100%|█████████████████████████████████████████| Time: 0:00:11\u001b[39m\n"
     ]
    }
   ],
   "source": [
    "generateCrossword(\"requirements.toml\")"
   ]
  },
  {
   "cell_type": "code",
   "execution_count": null,
   "id": "83614598-1d9b-4afa-a19b-053c008036dc",
   "metadata": {},
   "outputs": [],
   "source": []
  }
 ],
 "metadata": {
  "kernelspec": {
   "display_name": "Julia 1.11.7",
   "language": "julia",
   "name": "julia-1.11"
  },
  "language_info": {
   "file_extension": ".jl",
   "mimetype": "application/julia",
   "name": "julia",
   "version": "1.11.7"
  }
 },
 "nbformat": 4,
 "nbformat_minor": 5
}
